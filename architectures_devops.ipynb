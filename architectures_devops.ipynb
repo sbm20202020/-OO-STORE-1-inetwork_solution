{
  "nbformat": 4,
  "nbformat_minor": 0,
  "metadata": {
    "colab": {
      "provenance": [],
      "mount_file_id": "https://gist.github.com/sbm20202020/ebce5919ac5d12089d037957be874aa7#file-architectures-devops-ipynb",
      "authorship_tag": "ABX9TyMJsWD112b1/8mhiIDfqPkK",
      "include_colab_link": true
    },
    "kernelspec": {
      "name": "python3",
      "display_name": "Python 3"
    },
    "language_info": {
      "name": "python"
    }
  },
  "cells": [
    {
      "cell_type": "markdown",
      "metadata": {
        "id": "view-in-github",
        "colab_type": "text"
      },
      "source": [
        "<a href=\"https://colab.research.google.com/github/sbm20202020/-OO-STORE-1-inetwork_solution/blob/master/architectures_devops.ipynb\" target=\"_parent\"><img src=\"https://colab.research.google.com/assets/colab-badge.svg\" alt=\"Open In Colab\"/></a>"
      ]
    },
    {
      "cell_type": "code",
      "execution_count": 2,
      "metadata": {
        "colab": {
          "base_uri": "https://localhost:8080/"
        },
        "id": "ksbc6f0xueYx",
        "outputId": "8ed0c7cc-acfb-4733-e38b-85f08fdc338a"
      },
      "outputs": [
        {
          "output_type": "stream",
          "name": "stdout",
          "text": [
            "Collecting diagrams\n",
            "  Downloading diagrams-0.23.4-py3-none-any.whl (24.6 MB)\n",
            "\u001b[2K     \u001b[90m━━━━━━━━━━━━━━━━━━━━━━━━━━━━━━━━━━━━━━━━\u001b[0m \u001b[32m24.6/24.6 MB\u001b[0m \u001b[31m37.7 MB/s\u001b[0m eta \u001b[36m0:00:00\u001b[0m\n",
            "\u001b[?25hRequirement already satisfied: graphviz<0.21.0,>=0.13.2 in /usr/local/lib/python3.10/dist-packages (from diagrams) (0.20.1)\n",
            "Requirement already satisfied: jinja2<4.0,>=2.10 in /usr/local/lib/python3.10/dist-packages (from diagrams) (3.1.3)\n",
            "Collecting typed-ast<2.0.0,>=1.5.4 (from diagrams)\n",
            "  Downloading typed_ast-1.5.5-cp310-cp310-manylinux_2_17_x86_64.manylinux2014_x86_64.whl (824 kB)\n",
            "\u001b[2K     \u001b[90m━━━━━━━━━━━━━━━━━━━━━━━━━━━━━━━━━━━━━━━━\u001b[0m \u001b[32m824.7/824.7 kB\u001b[0m \u001b[31m50.4 MB/s\u001b[0m eta \u001b[36m0:00:00\u001b[0m\n",
            "\u001b[?25hRequirement already satisfied: MarkupSafe>=2.0 in /usr/local/lib/python3.10/dist-packages (from jinja2<4.0,>=2.10->diagrams) (2.1.5)\n",
            "Installing collected packages: typed-ast, diagrams\n",
            "Successfully installed diagrams-0.23.4 typed-ast-1.5.5\n"
          ]
        }
      ],
      "source": [
        "pip install diagrams"
      ]
    },
    {
      "cell_type": "code",
      "source": [
        "# from diagrams import Cluster, Diagram\n",
        "# from diagrams.aws.compute import ECS\n",
        "# from diagrams.aws.database import ElastiCache, RDS\n",
        "# from diagrams.aws.network import ELB\n",
        "# from diagrams.k8s.network import Service\n",
        "# from diagrams.k8s.compute import Pod\n",
        "# from diagrams.aws.network import Route53\n",
        "# from diagrams.onprem.database import PostgreSQL\n",
        "# from diagrams.onprem.inmemory import Redis\n",
        "# from diagrams.onprem.network import Nginx\n",
        "# from diagrams.generic.device import Mobile\n",
        "# from diagrams.azure.devops import Boards\n",
        "# from diagrams.onprem.container import Docker\n",
        "# from diagrams.custom import Custom\n",
        "# from urllib.request import urlretrieve\n",
        "\n",
        "####################\n",
        "from diagrams.azure.compute import AppServices\n",
        "from diagrams.onprem.client  import Client\n",
        "from diagrams.onprem.compute import Server\n",
        "\n",
        "with Diagram(\"Reverse Proxy Architecture - Bienvenue Mulebo\", show=False):\n",
        "\n",
        "    internet = AppServices(\"Internet\")\n",
        "    client = Client(\"Client\")\n",
        "\n",
        "\n",
        "    with Cluster(\"Internal Network\"):\n",
        "      rev_proxy = Nginx(\"Reverse Proxy\")\n",
        "      web_s1 = Server(\"WS-1\")\n",
        "      web_s2 = Server(\"WS-2\")\n",
        "      web_s3 = Server(\"WS-3\")\n",
        "\n",
        "\n",
        "    client >> internet\n",
        "    internet >> rev_proxy\n",
        "    rev_proxy >> web_s1\n",
        "    rev_proxy >> web_s2\n",
        "    rev_proxy >> web_s3"
      ],
      "metadata": {
        "id": "Bs-N65Nyukha"
      },
      "execution_count": 16,
      "outputs": []
    },
    {
      "cell_type": "code",
      "source": [
        "from diagrams import Cluster, Diagram\n",
        "from diagrams.aws.compute import ECS\n",
        "from diagrams.aws.database import ElastiCache, RDS\n",
        "from diagrams.aws.network import ELB\n",
        "from diagrams.k8s.network import Service\n",
        "from diagrams.k8s.compute import Pod\n",
        "from diagrams.aws.network import Route53\n",
        "from diagrams.onprem.database import PostgreSQL\n",
        "from diagrams.onprem.inmemory import Redis\n",
        "from diagrams.onprem.network import Nginx\n",
        "from diagrams.generic.device import Mobile\n",
        "from diagrams.azure.devops import Boards\n",
        "from diagrams.onprem.container import Docker\n",
        "from diagrams.custom import Custom\n",
        "from urllib.request import urlretrieve\n",
        "\n",
        "with Diagram(\"Architecture Globale du Portail de Paiement - Bienvenue Mulebo\", show=False):\n",
        "    mobile_app = Mobile(\"Application Mobile\")\n",
        "    web_dashboard_app = Boards(\"Tableau de Bord Web\")\n",
        "    firewall = Custom(\"Firewall\", \"./drive/MyDrive/ressources/Fortinet.png\")\n",
        "    merchant_app = Custom(\"Application Marchande [N+1]\", \"./drive/MyDrive/ressources/Hospital.png\")\n",
        "    nginx = Nginx(\"Nginx\")\n",
        "\n",
        "    with Cluster(\"Cluster d'Applications\"):\n",
        "        load_balancer = Service(\"Répartiteur de Charge\")\n",
        "        app_services = [Docker(\"S. Paiement 1\"),\n",
        "                        Docker(\"S. Paiement 2\"),\n",
        "                        Docker(\"S. Paiement N\")]\n",
        "\n",
        "    with Cluster(\"Cluster de Bases de Données\"):\n",
        "        db_primary = PostgreSQL(\"BD Principale : R/W\")\n",
        "        db_replicas = [PostgreSQL(\"BD Secondaire : R/O\")]\n",
        "\n",
        "    cache = Redis(\"Cache Redis\")\n",
        "\n",
        "    # Liaisons entre les composants\n",
        "    web_dashboard_app >> firewall\n",
        "    merchant_app >> firewall\n",
        "    mobile_app >> firewall\n",
        "    firewall >> nginx\n",
        "    nginx >> load_balancer >> app_services\n",
        "    app_services >> db_primary\n",
        "    app_services >> cache\n"
      ],
      "metadata": {
        "id": "eW0AbD7ZA0eb"
      },
      "execution_count": null,
      "outputs": []
    }
  ]
}