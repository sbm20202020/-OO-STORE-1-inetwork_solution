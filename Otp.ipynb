{
  "nbformat": 4,
  "nbformat_minor": 0,
  "metadata": {
    "colab": {
      "provenance": [],
      "toc_visible": true,
      "authorship_tag": "ABX9TyPnurG1w/ZYaYtiX5bgl6+Y",
      "include_colab_link": true
    },
    "kernelspec": {
      "name": "python3",
      "display_name": "Python 3"
    },
    "language_info": {
      "name": "python"
    }
  },
  "cells": [
    {
      "cell_type": "markdown",
      "metadata": {
        "id": "view-in-github",
        "colab_type": "text"
      },
      "source": [
        "<a href=\"https://colab.research.google.com/github/sbm20202020/-OO-STORE-1-inetwork_solution/blob/master/Otp.ipynb\" target=\"_parent\"><img src=\"https://colab.research.google.com/assets/colab-badge.svg\" alt=\"Open In Colab\"/></a>"
      ]
    },
    {
      "cell_type": "markdown",
      "source": [
        "### **Génération et validation OTP Free** by Bienvenue MULEBO"
      ],
      "metadata": {
        "id": "f6i5Sbbl7DqZ"
      }
    },
    {
      "cell_type": "markdown",
      "source": [
        "**Etape 1:**\n",
        "\n",
        "Installation de dépendences **pyotp** et **qrcode** avec pip"
      ],
      "metadata": {
        "id": "pRwySC_a7muJ"
      }
    },
    {
      "cell_type": "code",
      "execution_count": 47,
      "metadata": {
        "colab": {
          "base_uri": "https://localhost:8080/"
        },
        "id": "7zfnfBJk0RN_",
        "outputId": "61bbc45a-7c13-4efd-b513-590e0bc73190"
      },
      "outputs": [
        {
          "output_type": "stream",
          "name": "stdout",
          "text": [
            "Requirement already satisfied: pyotp in /usr/local/lib/python3.10/dist-packages (2.9.0)\n",
            "Requirement already satisfied: qrcode in /usr/local/lib/python3.10/dist-packages (7.4.2)\n",
            "Requirement already satisfied: typing-extensions in /usr/local/lib/python3.10/dist-packages (from qrcode) (4.5.0)\n",
            "Requirement already satisfied: pypng in /usr/local/lib/python3.10/dist-packages (from qrcode) (0.20220715.0)\n"
          ]
        }
      ],
      "source": [
        "!pip install pyotp qrcode"
      ]
    },
    {
      "cell_type": "markdown",
      "source": [
        "**Etape 2:**\n",
        "\n",
        "Génération du **QrCode** à Scanner avec une application de double authentification ex.( [Twilio Authy Authenticator](https://play.google.com/store/apps/details?id=com.authy.authy&hl=en_CA&gl=US&pli=1), [Google Authenticator](https://play.google.com/store/apps/details?id=com.google.android.apps.authenticator2&hl=en_CA&gl=US), [2FA Authenticator](https://play.google.com/store/apps/details?id=com.twofasapp&hl=en_CA&gl=US)), cette application génère des jetons de vérification à deux étapes sur votre appareil, ce qui vous aide à protéger votre compte contre les pirates et les usurpateurs.\n",
        "\n",
        "Vous pouvez télécharger gratuitement l'application [Twilio Authy Authenticator](https://play.google.com/store/apps/details?id=com.authy.authy&hl=en_CA&gl=US&pli=1) et suivre les guides faciles à utiliser pour configurer la double authentification sur vos comptes en ligne."
      ],
      "metadata": {
        "id": "fsexwZUp8oRm"
      }
    },
    {
      "cell_type": "code",
      "source": [
        "import pyotp\n",
        "import qrcode\n",
        "\n",
        "key = \"NCoqhMnSLtCsnMyHVJDMHtcd\"\n",
        "url = pyotp.totp.TOTP(key).provisioning_uri(name=\"bienvenue.mulebo@qv.cd\",issuer_name=\"qv.cd\")\n",
        "qrcode.make(url)"
      ],
      "metadata": {
        "colab": {
          "base_uri": "https://localhost:8080/",
          "height": 507
        },
        "id": "8o_OoWsb0cKo",
        "outputId": "7c7376e3-de38-475a-faaf-7bcc975b4d8b"
      },
      "execution_count": 48,
      "outputs": [
        {
          "output_type": "execute_result",
          "data": {
            "text/plain": [
              "<qrcode.image.pil.PilImage at 0x7f0485bfe9e0>"
            ],
            "image/png": "[encoded data removed]"
          },
          "metadata": {},
          "execution_count": 48
        }
      ]
    },
    {
      "cell_type": "code",
      "source": [
        "totp = pyotp.TOTP(key)\n",
        "totp.verify(\"825840\") # Le code 825840 est générer depuis l'application authy"
      ],
      "metadata": {
        "colab": {
          "base_uri": "https://localhost:8080/"
        },
        "id": "cNotiXt24Ku-",
        "outputId": "41d1236a-c451-4c5f-e9df-27e037c3b936"
      },
      "execution_count": 53,
      "outputs": [
        {
          "output_type": "execute_result",
          "data": {
            "text/plain": [
              "False"
            ]
          },
          "metadata": {},
          "execution_count": 53
        }
      ]
    }
  ]
}