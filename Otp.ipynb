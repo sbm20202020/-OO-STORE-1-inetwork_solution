{
  "nbformat": 4,
  "nbformat_minor": 0,
  "metadata": {
    "colab": {
      "provenance": [],
      "toc_visible": true,
      "authorship_tag": "ABX9TyPbzy4RnC7ya1BsiVYwE3iF",
      "include_colab_link": true
    },
    "kernelspec": {
      "name": "python3",
      "display_name": "Python 3"
    },
    "language_info": {
      "name": "python"
    }
  },
  "cells": [
    {
      "cell_type": "markdown",
      "metadata": {
        "id": "view-in-github",
        "colab_type": "text"
      },
      "source": [
        "<a href=\"https://colab.research.google.com/github/sbm20202020/-OO-STORE-1-inetwork_solution/blob/master/Otp.ipynb\" target=\"_parent\"><img src=\"https://colab.research.google.com/assets/colab-badge.svg\" alt=\"Open In Colab\"/></a>"
      ]
    },
    {
      "cell_type": "code",
      "execution_count": 1,
      "metadata": {
        "colab": {
          "base_uri": "https://localhost:8080/"
        },
        "id": "7zfnfBJk0RN_",
        "outputId": "13157a7d-e82f-491f-e65e-fd35f3fb91a0"
      },
      "outputs": [
        {
          "output_type": "stream",
          "name": "stdout",
          "text": [
            "Collecting pyotp\n",
            "  Downloading pyotp-2.9.0-py3-none-any.whl (13 kB)\n",
            "Installing collected packages: pyotp\n",
            "Successfully installed pyotp-2.9.0\n"
          ]
        }
      ],
      "source": [
        "!pip install pyotp"
      ]
    },
    {
      "cell_type": "code",
      "source": [
        "import pyotp\n",
        "\n",
        "key = \"NCoqhMnSLtCsnMyHVJDMHtcd\"\n",
        "\n",
        "# Create a new PyOTP instance\n",
        "totp = pyotp.TOTP(key)\n",
        "\n",
        "# Generate the current OTP\n",
        "otp = totp.now()\n",
        "print(otp)"
      ],
      "metadata": {
        "colab": {
          "base_uri": "https://localhost:8080/"
        },
        "id": "8o_OoWsb0cKo",
        "outputId": "a82a73c7-7252-4ec2-ace0-984aff6f22ff"
      },
      "execution_count": 18,
      "outputs": [
        {
          "output_type": "stream",
          "name": "stdout",
          "text": [
            "544884\n"
          ]
        }
      ]
    },
    {
      "cell_type": "code",
      "source": [
        "totp.verify(\"544884\")"
      ],
      "metadata": {
        "colab": {
          "base_uri": "https://localhost:8080/"
        },
        "id": "oFgCflco0g-Y",
        "outputId": "b53773c4-4ee7-4c2f-c722-2d071763c6bc"
      },
      "execution_count": 21,
      "outputs": [
        {
          "output_type": "execute_result",
          "data": {
            "text/plain": [
              "True"
            ]
          },
          "metadata": {},
          "execution_count": 21
        }
      ]
    }
  ]
}